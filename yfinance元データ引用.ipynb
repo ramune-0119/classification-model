{
 "cells": [
  {
   "cell_type": "code",
   "execution_count": null,
   "id": "87e43cf5-45c1-4161-97f3-dfa5baa8b151",
   "metadata": {},
   "outputs": [],
   "source": [
    "import yfinance as yf\n",
    "import pandas as pd\n",
    "\n",
    "# 株価データを取得する銘柄のシンボル\n",
    "ticker_symbol = \"AAPL\"  # 例: Appleの場合\n",
    "\n",
    "# 株価データを取得\n",
    "stock_data = yf.download(ticker_symbol, start=\"2022-01-01\", end=\"2022-12-31\")\n",
    "\n",
    "# エクセルファイルに保存\n",
    "stock_data.to_excel(\"Apple_data_2022.xlsx\")\n",
    "\n",
    "# エクセルファイルを読み込む\n",
    "data = pd.read_excel(\"Apple_data_2022.xlsx\")\n"
   ]
  },
  {
   "cell_type": "code",
   "execution_count": 8,
   "id": "c7125f3d-c027-47e7-81c1-0e98e4afe880",
   "metadata": {},
   "outputs": [
    {
     "name": "stdout",
     "output_type": "stream",
     "text": [
      "[*********************100%%**********************]  1 of 1 completed\n"
     ]
    }
   ],
   "source": [
    "import yfinance as yf\n",
    "import pandas as pd\n",
    "\n",
    "# 株価データを取得する銘柄のシンボル\n",
    "ticker_symbol = \"^N225\"  \n",
    "\n",
    "# 株価データを取得\n",
    "stock_data = yf.download(ticker_symbol, start=\"2024-01-01\", end=\"2024-07-01\")\n",
    "\n",
    "# エクセルファイルに保存\n",
    "stock_data.to_excel(\"japan_data_0701.xlsx\")\n",
    "\n",
    "# エクセルファイルを読み込む\n",
    "data = pd.read_excel(\"japan_data_0701.xlsx\")"
   ]
  },
  {
   "cell_type": "code",
   "execution_count": 2,
   "id": "f0134c0c-deb7-47dd-ac00-2d4031782b92",
   "metadata": {},
   "outputs": [
    {
     "data": {
      "text/plain": [
       "yfinance.Ticker object <AAPL>"
      ]
     },
     "execution_count": 2,
     "metadata": {},
     "output_type": "execute_result"
    }
   ],
   "source": [
    "import yfinance as yf\n",
    "\n",
    "appl = yf.Ticker(\"AAPL\") \n",
    "\n",
    "# 取得したデータを確認します。\n",
    "appl\n"
   ]
  },
  {
   "cell_type": "code",
   "execution_count": 1,
   "id": "1115abc5-cfb7-4739-afe8-443aa54f035d",
   "metadata": {},
   "outputs": [
    {
     "name": "stdout",
     "output_type": "stream",
     "text": [
      "[*********************100%%**********************]  1 of 1 completed\n",
      "データは japan_data_0701.csv に保存されました。\n"
     ]
    }
   ],
   "source": [
    "import yfinance as yf\n",
    "import pandas as pd\n",
    "\n",
    "# 株価データを取得する銘柄のシンボル\n",
    "ticker_symbol = \"^N225\"  \n",
    "\n",
    "# 2024年1月1日から2024年7月1日までの株価データを取得\n",
    "stock_data = yf.download(ticker_symbol, start=\"2024-01-01\", end=\"2024-07-01\")\n",
    "\n",
    "# 取得したデータをエクセルファイルに保存\n",
    "excel_file = \"japan_data_0701.xlsx\"\n",
    "stock_data.to_excel(excel_file)\n",
    "\n",
    "print(f\"エクセルファイルに保存しました: {excel_file}\")\n",
    "\n",
    "# エクセルファイルを読み込み\n",
    "data = pd.read_excel(excel_file)\n",
    "\n",
    "# 読み込んだデータをCSVファイルに変換して保存\n",
    "csv_file = \"japan_data_0701.csv\"\n",
    "data.to_csv(csv_file, index=False)\n",
    "\n",
    "print(f\"CSVファイルに変換して保存しました: {csv_file}\")\n",
    "\n",
    "# CSVファイルを読み込む\n",
    "df = pd.read_csv(csv_file)\n",
    "\n",
    "# データの先頭5行を表示して確認する\n",
    "print(\"CSVファイルのデータの先頭5行:\")\n",
    "print(df.head())\n"
   ]
  },
  {
   "cell_type": "code",
   "execution_count": 3,
   "id": "3046bc72-85eb-4f91-b3ff-1e837ef97f67",
   "metadata": {},
   "outputs": [
    {
     "name": "stdout",
     "output_type": "stream",
     "text": [
      "[*********************100%%**********************]  1 of 1 completed\n",
      "                                 Open        High         Low       Close  \\\n",
      "Datetime                                                                    \n",
      "2024-10-25 09:30:00-04:00  229.740005  231.589996  229.570007  231.399994   \n",
      "2024-10-25 09:45:00-04:00  231.399994  232.076706  230.509995  232.024002   \n",
      "2024-10-25 10:00:00-04:00  231.910004  232.429901  231.809998  232.020004   \n",
      "2024-10-25 10:15:00-04:00  232.020004  232.389999  231.720200  232.130005   \n",
      "2024-10-25 10:30:00-04:00  232.119995  232.660004  232.119995  232.440002   \n",
      "2024-10-25 10:45:00-04:00  232.460007  232.910004  232.220001  232.844604   \n",
      "2024-10-25 11:00:00-04:00  232.860001  233.199997  232.669998  232.970001   \n",
      "2024-10-25 11:15:00-04:00  232.979996  232.979996  232.229996  232.229996   \n",
      "2024-10-25 11:30:00-04:00  232.229996  232.354996  231.910004  232.089996   \n",
      "2024-10-25 11:45:00-04:00  232.093994  232.339996  231.759995  232.050003   \n",
      "2024-10-25 12:00:00-04:00  232.029999  232.539993  231.942902  232.479996   \n",
      "2024-10-25 12:15:00-04:00  232.470001  232.731995  232.419998  232.710007   \n",
      "2024-10-25 12:30:00-04:00  232.735001  232.785004  232.460007  232.764999   \n",
      "2024-10-25 12:45:00-04:00  232.759995  232.940002  232.669998  232.779999   \n",
      "2024-10-25 13:00:00-04:00  232.770004  232.770004  232.130005  232.248001   \n",
      "2024-10-25 13:15:00-04:00  232.220001  232.229996  231.529999  231.946701   \n",
      "\n",
      "                            Volume  \n",
      "Datetime                            \n",
      "2024-10-25 09:30:00-04:00  3920105  \n",
      "2024-10-25 09:45:00-04:00  1688158  \n",
      "2024-10-25 10:00:00-04:00  1614205  \n",
      "2024-10-25 10:15:00-04:00  1013476  \n",
      "2024-10-25 10:30:00-04:00   969646  \n",
      "2024-10-25 10:45:00-04:00   971835  \n",
      "2024-10-25 11:00:00-04:00   968155  \n",
      "2024-10-25 11:15:00-04:00  1229110  \n",
      "2024-10-25 11:30:00-04:00  1083312  \n",
      "2024-10-25 11:45:00-04:00   847539  \n",
      "2024-10-25 12:00:00-04:00   723892  \n",
      "2024-10-25 12:15:00-04:00   556383  \n",
      "2024-10-25 12:30:00-04:00   543021  \n",
      "2024-10-25 12:45:00-04:00   564545  \n",
      "2024-10-25 13:00:00-04:00   575778  \n",
      "2024-10-25 13:15:00-04:00   528291  \n"
     ]
    }
   ],
   "source": [
    "import yfinance as yf\n",
    "import pandas as pd\n",
    "\n",
    "ticker = \"AAPL\"  # 任意のシンボルに置き換え\n",
    "data = yf.download(ticker, interval=\"5m\", period=\"1d\")  # 5分足データを取得\n",
    "\n",
    "# 15分足にリサンプリング\n",
    "data_15m = data.resample('15T').agg({\n",
    "    'Open': 'first',\n",
    "    'High': 'max',\n",
    "    'Low': 'min',\n",
    "    'Close': 'last',\n",
    "    'Volume': 'sum'\n",
    "})\n",
    "print(data_15m)\n"
   ]
  },
  {
   "cell_type": "code",
   "execution_count": null,
   "id": "fefbebb7-0713-4347-b259-2d1f53ee2d63",
   "metadata": {},
   "outputs": [],
   "source": []
  }
 ],
 "metadata": {
  "kernelspec": {
   "display_name": "Python 3 (ipykernel)",
   "language": "python",
   "name": "python3"
  },
  "language_info": {
   "codemirror_mode": {
    "name": "ipython",
    "version": 3
   },
   "file_extension": ".py",
   "mimetype": "text/x-python",
   "name": "python",
   "nbconvert_exporter": "python",
   "pygments_lexer": "ipython3",
   "version": "3.8.18"
  }
 },
 "nbformat": 4,
 "nbformat_minor": 5
}
