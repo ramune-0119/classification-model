{
 "cells": [
  {
   "cell_type": "code",
   "execution_count": 23,
   "id": "7c7ce80c-9433-489e-80ec-c177eb27c916",
   "metadata": {},
   "outputs": [
    {
     "name": "stdout",
     "output_type": "stream",
     "text": [
      "[*********************100%%**********************]  1 of 1 completed\n"
     ]
    }
   ],
   "source": [
    "import yfinance as yf\n",
    "import pandas as pd\n",
    "from sklearn.ensemble import RandomForestClassifier\n",
    "from sklearn.metrics import accuracy_score, confusion_matrix, classification_report\n",
    "from sklearn.model_selection import train_test_split\n",
    "import matplotlib.pyplot as plt\n",
    "from sklearn.tree import plot_tree\n",
    "import numpy as np\n",
    "\n",
    "# データの取得\n",
    "ticker = \"^N225\"\n",
    "data = yf.download(ticker, interval=\"1m\", period=\"1d\")\n"
   ]
  },
  {
   "cell_type": "code",
   "execution_count": 12,
   "id": "40835ffb-1e62-40e1-92fa-7f818260877b",
   "metadata": {},
   "outputs": [
    {
     "name": "stdout",
     "output_type": "stream",
     "text": [
      "[*********************100%%**********************]  1 of 1 completed\n",
      "                                   Open          High           Low  \\\n",
      "Datetime                                                              \n",
      "2024-10-28 09:00:00+09:00  37757.949219  37791.781250  37757.949219   \n",
      "2024-10-28 09:01:00+09:00  37795.851562  37814.398438  37795.851562   \n",
      "2024-10-28 09:02:00+09:00           NaN           NaN           NaN   \n",
      "2024-10-28 09:03:00+09:00  37960.089844  38019.519531  37960.070312   \n",
      "2024-10-28 09:04:00+09:00  38036.320312  38051.921875  37994.968750   \n",
      "...                                 ...           ...           ...   \n",
      "2024-10-28 14:55:00+09:00           NaN           NaN           NaN   \n",
      "2024-10-28 14:56:00+09:00  38641.078125  38641.238281  38640.398438   \n",
      "2024-10-28 14:57:00+09:00  38649.171875  38665.890625  38649.171875   \n",
      "2024-10-28 14:58:00+09:00  38672.179688  38672.179688  38656.871094   \n",
      "2024-10-28 14:59:00+09:00  38671.101562  38671.101562  38632.070312   \n",
      "\n",
      "                                  Close  Volume  \n",
      "Datetime                                         \n",
      "2024-10-28 09:00:00+09:00  37790.609375       0  \n",
      "2024-10-28 09:01:00+09:00  37814.398438       0  \n",
      "2024-10-28 09:02:00+09:00           NaN       0  \n",
      "2024-10-28 09:03:00+09:00  38000.441406       0  \n",
      "2024-10-28 09:04:00+09:00  38008.738281       0  \n",
      "...                                 ...     ...  \n",
      "2024-10-28 14:55:00+09:00           NaN       0  \n",
      "2024-10-28 14:56:00+09:00  38640.398438       0  \n",
      "2024-10-28 14:57:00+09:00  38665.890625       0  \n",
      "2024-10-28 14:58:00+09:00  38670.781250       0  \n",
      "2024-10-28 14:59:00+09:00  38642.800781       0  \n",
      "\n",
      "[360 rows x 5 columns]\n"
     ]
    }
   ],
   "source": [
    "import yfinance as yf\n",
    "import pandas as pd\n",
    "from sklearn.ensemble import RandomForestClassifier\n",
    "from sklearn.metrics import accuracy_score, confusion_matrix, classification_report\n",
    "from sklearn.model_selection import train_test_split\n",
    "import matplotlib.pyplot as plt\n",
    "from sklearn.tree import plot_tree\n",
    "import numpy as np\n",
    "\n",
    "ticker = \"^N225\"  # 任意のシンボルに置き換え\n",
    "data = yf.download(ticker, interval=\"1m\", period=\"1d\")  # 5分足データを取得\n",
    "\n",
    "# 15分足にリサンプリング\n",
    "data_1m = data.resample('1T').agg({\n",
    "    'Open': 'first',\n",
    "    'High': 'max',\n",
    "    'Low': 'min',\n",
    "    'Close': 'last',\n",
    "    'Volume': 'sum'\n",
    "})\n",
    "print(data_1m)\n"
   ]
  },
  {
   "cell_type": "code",
   "execution_count": 16,
   "id": "75b8ef49-530b-4640-8e22-aa416bc21da4",
   "metadata": {},
   "outputs": [
    {
     "name": "stdout",
     "output_type": "stream",
     "text": [
      "[*********************100%%**********************]  1 of 1 completed\n",
      "1分足データの最初の5行:\n",
      "                                   Open          High           Low  \\\n",
      "Datetime                                                              \n",
      "2024-10-22 09:00:00+09:00  38933.601562  38933.601562  38848.511719   \n",
      "2024-10-22 09:01:00+09:00  38862.820312  38891.859375  38862.820312   \n",
      "2024-10-22 09:02:00+09:00  38879.488281  38921.710938  38879.488281   \n",
      "2024-10-22 09:03:00+09:00  38938.660156  38938.660156  38905.640625   \n",
      "2024-10-22 09:04:00+09:00  38923.089844  38955.191406  38923.089844   \n",
      "\n",
      "                                  Close     Adj Close  Volume  \n",
      "Datetime                                                       \n",
      "2024-10-22 09:00:00+09:00  38857.558594  38857.558594       0  \n",
      "2024-10-22 09:01:00+09:00  38874.410156  38874.410156       0  \n",
      "2024-10-22 09:02:00+09:00  38921.710938  38921.710938       0  \n",
      "2024-10-22 09:03:00+09:00  38914.750000  38914.750000       0  \n",
      "2024-10-22 09:04:00+09:00  38955.191406  38955.191406       0  \n",
      "\n",
      "15分足データの最初の5行:\n",
      "                                   Open          High           Low  \\\n",
      "Datetime                                                              \n",
      "2024-10-22 09:00:00+09:00  38933.601562  38995.031250  38848.511719   \n",
      "2024-10-22 09:15:00+09:00  38942.769531  38946.898438  38823.000000   \n",
      "2024-10-22 09:30:00+09:00  38922.109375  38922.109375  38724.878906   \n",
      "2024-10-22 09:45:00+09:00  38719.871094  38719.871094  38490.070312   \n",
      "2024-10-22 10:00:00+09:00  38494.210938  38550.390625  38227.031250   \n",
      "\n",
      "                                  Close  Volume  \n",
      "Datetime                                         \n",
      "2024-10-22 09:00:00+09:00  38950.609375       0  \n",
      "2024-10-22 09:15:00+09:00  38920.929688       0  \n",
      "2024-10-22 09:30:00+09:00  38724.878906       0  \n",
      "2024-10-22 09:45:00+09:00  38490.070312       0  \n",
      "2024-10-22 10:00:00+09:00  38243.628906       0  \n",
      "\n",
      "30分足データの最初の5行:\n",
      "                                   Open          High           Low  \\\n",
      "Datetime                                                              \n",
      "2024-10-22 09:00:00+09:00  38933.601562  38995.031250  38823.000000   \n",
      "2024-10-22 09:30:00+09:00  38922.109375  38922.109375  38490.070312   \n",
      "2024-10-22 10:00:00+09:00  38494.210938  38550.390625  38200.820312   \n",
      "2024-10-22 10:30:00+09:00  38431.640625  38494.781250  38386.519531   \n",
      "2024-10-22 11:00:00+09:00  38424.160156  38492.289062  38392.199219   \n",
      "\n",
      "                                  Close  Volume  \n",
      "Datetime                                         \n",
      "2024-10-22 09:00:00+09:00  38920.929688       0  \n",
      "2024-10-22 09:30:00+09:00  38490.070312       0  \n",
      "2024-10-22 10:00:00+09:00  38429.511719       0  \n",
      "2024-10-22 10:30:00+09:00  38427.378906       0  \n",
      "2024-10-22 11:00:00+09:00  38406.660156       0  \n"
     ]
    }
   ],
   "source": [
    "import yfinance as yf\n",
    "\n",
    "# 1分足データの取得\n",
    "ticker = \"^N225\"\n",
    "data_1 = yf.download(ticker, interval=\"1m\", period=\"5d\")\n",
    "\n",
    "# 15分足にリサンプリング\n",
    "data_15 = data_1.resample('15T').agg({\n",
    "    'Open': 'first',\n",
    "    'High': 'max',\n",
    "    'Low': 'min',\n",
    "    'Close': 'last',\n",
    "    'Volume': 'sum'\n",
    "})\n",
    "\n",
    "# 30分足にリサンプリング\n",
    "data_30 = data_1.resample('30T').agg({\n",
    "    'Open': 'first',\n",
    "    'High': 'max',\n",
    "    'Low': 'min',\n",
    "    'Close': 'last',\n",
    "    'Volume': 'sum'\n",
    "})\n",
    "\n",
    "# 最初の5行を表示\n",
    "print(\"1分足データの最初の5行:\")\n",
    "print(data_1.head())\n",
    "\n",
    "print(\"\\n15分足データの最初の5行:\")\n",
    "print(data_15.head())\n",
    "\n",
    "print(\"\\n30分足データの最初の5行:\")\n",
    "print(data_30.head())\n"
   ]
  },
  {
   "cell_type": "code",
   "execution_count": null,
   "id": "f40a2cf3-9624-4bcb-8e0f-01347e16d238",
   "metadata": {},
   "outputs": [],
   "source": []
  }
 ],
 "metadata": {
  "kernelspec": {
   "display_name": "Python 3 (ipykernel)",
   "language": "python",
   "name": "python3"
  },
  "language_info": {
   "codemirror_mode": {
    "name": "ipython",
    "version": 3
   },
   "file_extension": ".py",
   "mimetype": "text/x-python",
   "name": "python",
   "nbconvert_exporter": "python",
   "pygments_lexer": "ipython3",
   "version": "3.8.18"
  }
 },
 "nbformat": 4,
 "nbformat_minor": 5
}
