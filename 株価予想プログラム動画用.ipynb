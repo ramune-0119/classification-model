{
 "cells": [
  {
   "cell_type": "code",
   "execution_count": null,
   "id": "67784c2f-0fc0-4df7-b5a5-59d9eb40df11",
   "metadata": {},
   "outputs": [],
   "source": [
    "#1つ目の動画　https://youtu.be/IB0vB8nyHl4?si=cK-2zBbks52I3YrF\n",
    "import pandas as pd  # pandasライブラリをインポートします。\n",
    "from sklearn import tree  #現時点ではわからん。（4月5日）\n",
    "\n",
    "# 株価データをリストで定義します。\n",
    "data01 = [\n",
    "    [27280, 27400, 26990, 27030],\n",
    "    [27300, 27540, 27260, 27540],\n",
    "    [27260, 27300, 27250, 27200]\n",
    "]\n",
    "\n",
    "# データフレームを作成します。インデックスに日付、列に株価の各要素を設定します。\n",
    "df_data01 = pd.DataFrame(data01, \n",
    "                         index=['2022/02/01', '2022/02/02', '2022/02/03'],\n",
    "                         columns=['open', 'high', 'low', 'close'])\n",
    "\n",
    "print(df_data01)  # データフレームを出力します。\n",
    "\n",
    "# 株価結果データをリストで定義します。\n",
    "ans01 = [['up'], ['down'], ['up']]\n",
    "\n",
    "# データフレームを作成します。インデックスに日付、列に結果を設定します。\n",
    "df_a01 = pd.DataFrame(ans01,\n",
    "                      index=['2022/02/01', '2022/02/02', '2022/02/03'],\n",
    "                      columns=['result'])\n",
    "\n",
    "print(df_a01)  # データフレームを出力します。\n",
    "\n",
    "#機械学習の準備段階、仕組みとかまだわからん。\n",
    "model_01 = tree.DecisionTreeClassifier(max_depth=2, random_state=0)\n",
    "\n",
    "# モデルを訓練します。訓練データとして株価データ（df_data01）と結果データ（df_a01）を渡します。\n",
    "model_01.fit(df_data01, df_a01)\n",
    "\n",
    "#2月4日の翌日のupdownを予測する準備\n",
    "test01 = [\n",
    "    [27080,27430,27060,27410]\n",
    "]\n",
    "df_test01 = pd.DataFrame(test01, \n",
    "                         index = ['2022/02/04'],\n",
    "                         columns = ['open','high','low','close'])\n",
    "print(df_test01)\n",
    "\n",
    "\n",
    "#予測しよう！関数predict\n",
    "model_01.predict(df_test01)\n",
    "\n",
    "test02 = [\n",
    "    [27080,27430,27060,27410],\n",
    "    [27270,27310,27070,27220]\n",
    "]\n",
    "df_test02 = pd.DataFrame(test02, \n",
    "    index = ['2022/02/04','2022/02/07'],\n",
    "    columns = ['open','high','low','close'])\n",
    "\n",
    "print(df_test02)\n",
    "\n",
    "model_01.predict(df_test02)"
   ]
  },
  {
   "cell_type": "code",
   "execution_count": null,
   "id": "5d7ce880-67b7-40bf-b00d-5d0279e4d0a7",
   "metadata": {},
   "outputs": [],
   "source": [
    "#2つ目の動画　https://youtu.be/jgdZWJWSq9A?si=QoyAROC9TRSq6JTQ\n",
    "df_d11= pd.read_csv('Documents/学習4本値データ.csv',index_col = 0, header = 0)\n",
    "df_a11 = pd.read_csv('Documents/学習正解データ.csv', index_col = 0, header = 0)\n",
    "\n",
    "print(df_d11.head(3))\n",
    "print(df_a11.head(3))\n",
    "\n",
    "model_11 = tree.DecisionTreeClassifier(max_depth = 4, random_state = 0)\n",
    "model_11.fit(df_d11, df_a11)\n",
    "\n",
    "df_t11 = pd.read_csv('Documents/予測用データ1.csv', index_col = 0, header = 0)\n",
    "\n",
    "print(df_t11.head(3))\n",
    "\n",
    "model_11.predict(df_t11)"
   ]
  },
  {
   "cell_type": "code",
   "execution_count": null,
   "id": "d0128d0d-2338-4f74-8b49-bfc517ce22de",
   "metadata": {},
   "outputs": [],
   "source": [
    "df_pr = model_11.predict(df_t11)\n",
    "df_t11['予想'] = df_pr\n",
    "df_t11.to_csv('予想結果.csv', encoding = 'utf_8_sig')"
   ]
  },
  {
   "cell_type": "code",
   "execution_count": null,
   "id": "5209ec39-6bdc-4d3b-8d10-f173df703e12",
   "metadata": {},
   "outputs": [],
   "source": [
    "#3つ目の動画 https://youtu.be/nlsn4ETSuQM?si=JL5KOiXLQhL7DQGl\n",
    "from sklearn.tree import plot_tree\n",
    "\n",
    "df_d33 = pd.read_csv('Documents/学習データApple2022.csv', index_col = 0, header = 0)\n",
    "df_a33 = pd.read_csv('Documents/学習正解データApple2022.csv', index_col = 0, header = 0)\n",
    "\n",
    "print(df_d33.tail(3))\n",
    "print(df_a33.tail(3))\n",
    "\n",
    "model_33 = tree.DecisionTreeClassifier(max_depth=2, random_state = 0)\n",
    "model_33.fit(df_d33, df_a33)\n",
    "model_33.score(df_d33, df_a33)\n",
    "\n",
    "df_d33.columns = ['open','high','low','close']\n",
    "plot_tree(model_33, feature_names = df_d33.columns,filled = True)"
   ]
  },
  {
   "cell_type": "code",
   "execution_count": null,
   "id": "4b7cc4a5-ee72-4c68-869e-3a631a5b6a1a",
   "metadata": {},
   "outputs": [],
   "source": [
    "model_33.classes_"
   ]
  }
 ],
 "metadata": {
  "kernelspec": {
   "display_name": "Python 3 (ipykernel)",
   "language": "python",
   "name": "python3"
  },
  "language_info": {
   "codemirror_mode": {
    "name": "ipython",
    "version": 3
   },
   "file_extension": ".py",
   "mimetype": "text/x-python",
   "name": "python",
   "nbconvert_exporter": "python",
   "pygments_lexer": "ipython3",
   "version": "3.11.7"
  }
 },
 "nbformat": 4,
 "nbformat_minor": 5
}
